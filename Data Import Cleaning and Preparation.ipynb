{
 "cells": [
  {
   "cell_type": "markdown",
   "metadata": {},
   "source": [
    "# Data Import, Cleaning, and Preparation\n",
    "\n",
    "This module is used to query the postgreSQL database in order to retrieve the Yelp and Violations dataset. There will be several steps to do this:\n",
    "* Import flattened violations dataset. We will use a SQL query to perform aggregation of violation data by restaurant and inspeciton date. \n",
    "* Aggregate the Yelp Data\n",
    "    * Reviews for a given establishment will be aggregated so that reviews *after* the previous inspection (or the earliest review date) and *before* the date of a given inspection are in one batch. \n",
    "    * Aggregate \"count\" features using this same logic\n",
    "    * Combine the review document for a restaurant into a CLOB using the same logic\n",
    "* LEFT JOIN the violations dataset to the Yelp data after aggregationis complete for both datasets"
   ]
  },
  {
   "cell_type": "code",
   "execution_count": 19,
   "metadata": {},
   "outputs": [
    {
     "name": "stdout",
     "output_type": "stream",
     "text": [
      "            0\n",
      "0    business\n",
      "1     checkin\n",
      "2  violations\n",
      "3        tips\n",
      "4     reviews\n"
     ]
    }
   ],
   "source": [
    "import psycopg2 as psy\n",
    "import pandas as pd\n",
    "conn = psycopg2.connect(database=\"sterndsyelp\", \n",
    "                        user=\"mvsternds\", \n",
    "                        password=\"nyustern123!\", \n",
    "                        host=\"sterndsyelp.cawzspvmqd5q.us-east-1.rds.amazonaws.com\", \n",
    "                        port=\"5432\"\n",
    "                       )\n",
    "cur = conn.cursor()\n",
    "cur.execute(\"SELECT table_name FROM information_schema.tables\"\n",
    "            \" WHERE table_schema='public'\" \n",
    "            \" AND table_type='BASE TABLE'\")\n",
    "rows =cur.fetchall()\n",
    "print(pd.DataFrame(rows))"
   ]
  }
 ],
 "metadata": {
  "kernelspec": {
   "display_name": "Python 3",
   "language": "python",
   "name": "python3"
  },
  "language_info": {
   "codemirror_mode": {
    "name": "ipython",
    "version": 3
   },
   "file_extension": ".py",
   "mimetype": "text/x-python",
   "name": "python",
   "nbconvert_exporter": "python",
   "pygments_lexer": "ipython3",
   "version": "3.6.1"
  }
 },
 "nbformat": 4,
 "nbformat_minor": 2
}
