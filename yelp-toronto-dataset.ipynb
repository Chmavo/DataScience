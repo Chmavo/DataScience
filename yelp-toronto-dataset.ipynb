{
 "cells": [
  {
   "cell_type": "markdown",
   "metadata": {},
   "source": [
    "# Predicting Health Inspection Violaitons from Yelp Reviews and Business Attributes"
   ]
  },
  {
   "cell_type": "markdown",
   "metadata": {},
   "source": [
    "## 1. Environment Setup"
   ]
  },
  {
   "cell_type": "code",
   "execution_count": 5,
   "metadata": {
    "collapsed": true
   },
   "outputs": [],
   "source": [
    "import psycopg2 as psy\n",
    "import pandas as pd\n",
    "import re\n",
    "import numpy as np\n",
    "import ast\n",
    "from sklearn import metrics\n",
    "from sklearn.model_selection import train_test_split\n",
    "from sklearn.model_selection import cross_val_score\n",
    "from sklearn.linear_model import LogisticRegression\n",
    "from sklearn.svm import LinearSVC\n",
    "from sklearn.feature_extraction.text import CountVectorizer\n",
    "from sklearn.feature_extraction.text import TfidfTransformer\n",
    "from sklearn.feature_extraction.text import HashingVectorizer\n",
    "import scipy.sparse\n",
    "import sklearn.pipeline as pipe"
   ]
  },
  {
   "cell_type": "markdown",
   "metadata": {},
   "source": [
    "## 2. Data Preparation"
   ]
  },
  {
   "cell_type": "markdown",
   "metadata": {},
   "source": [
    "Connect to database and download initial datasets. These datasets are materialized views of the Yelp business data converted from JSON format, and the Toronto Inspection dataset imported from CSV. All attributes have been normalized to remove leading spaces, JSON tags, and unreadable characters."
   ]
  },
  {
   "cell_type": "code",
   "execution_count": 6,
   "metadata": {
    "collapsed": true,
    "scrolled": false
   },
   "outputs": [],
   "source": [
    "#set up connection to our DB\n",
    "conn = psy.connect(database=\"sterndsyelp\", \n",
    "                        user=\"mvsternds\", \n",
    "                        password=\"nyustern123!\", \n",
    "                        host=\"sterndsyelp.cawzspvmqd5q.us-east-1.rds.amazonaws.com\", \n",
    "                        port=\"5432\"\n",
    "                       )\n",
    "#open cursor and check our tables in the DB\n",
    "cur = conn.cursor()"
   ]
  },
  {
   "cell_type": "code",
   "execution_count": 7,
   "metadata": {
    "collapsed": true,
    "scrolled": true
   },
   "outputs": [],
   "source": [
    "#get Yelp review text\n",
    "cur.execute(\"SELECT * FROM public.toronto_reviews\")\n",
    "reviews = pd.DataFrame(cur.fetchall())\n",
    "reviews.columns = ['bizID','reviewID','userID','type','stars','text','useful','funny','cool','date']\n",
    "\n",
    "#get total reviews per biz\n",
    "rev = reviews['bizID'].value_counts()\n",
    "rev_counts = pd.DataFrame(rev).reset_index()\n",
    "rev_counts.columns = ['bizID','all_review_count']"
   ]
  },
  {
   "cell_type": "markdown",
   "metadata": {},
   "source": [
    "### Join Yelp Review Data with Inspection Dataset"
   ]
  },
  {
   "cell_type": "markdown",
   "metadata": {},
   "source": [
    "#### Levenshtein Distance (in-database) \n",
    "This option joins the yelp restaurant informaiton to each inspection record where:\n",
    " * The [Levenshtein distance](https://xlinux.nist.gov/dads/HTML/Levenshtein.html) of the restaurant name from the two datasets is <3\n",
    " * The distance of the address from each dataset is <4\n",
    " * The date of the review is greater than the prior inspection date\n",
    " * The date of the review is less than or equal to inspeciton date on the record\n",
    " * The absolute value difference of the \"star\" rating in the review is less than or equal to 2 (this may reduce biased reviews that are too far from the mean)\n",
    " \n",
    "Whitespace at the beginning and end of the name and address in each dataset is trimmed, and the strings are converted to uppercase before matching. The mathcing thresholds can be adjusted to increase potential for matching, or decrease false matches."
   ]
  },
  {
   "cell_type": "code",
   "execution_count": 8,
   "metadata": {
    "scrolled": true
   },
   "outputs": [
    {
     "data": {
      "text/html": [
       "<div>\n",
       "<table border=\"1\" class=\"dataframe\">\n",
       "  <thead>\n",
       "    <tr style=\"text-align: right;\">\n",
       "      <th></th>\n",
       "      <th>bizID</th>\n",
       "      <th>name</th>\n",
       "      <th>address</th>\n",
       "      <th>postal_code</th>\n",
       "      <th>neighborhood</th>\n",
       "      <th>lat</th>\n",
       "      <th>long</th>\n",
       "      <th>categories</th>\n",
       "      <th>attributes</th>\n",
       "      <th>is_open</th>\n",
       "      <th>...</th>\n",
       "      <th>count_na</th>\n",
       "      <th>count_crucial_signficant</th>\n",
       "      <th>review_id</th>\n",
       "      <th>user_id</th>\n",
       "      <th>review_stars</th>\n",
       "      <th>review_text</th>\n",
       "      <th>useful</th>\n",
       "      <th>funny</th>\n",
       "      <th>cool</th>\n",
       "      <th>review_dt</th>\n",
       "    </tr>\n",
       "  </thead>\n",
       "  <tbody>\n",
       "    <tr>\n",
       "      <th>0</th>\n",
       "      <td>0Yh6U06nGLjAMwCw6l9-DA</td>\n",
       "      <td>YANGSBBQRESTAURANT</td>\n",
       "      <td>4186FINCHAVENUEE</td>\n",
       "      <td>M1S 5C9</td>\n",
       "      <td>Scarborough</td>\n",
       "      <td>43.8042008789</td>\n",
       "      <td>-79.2884373665</td>\n",
       "      <td>['Restaurants', 'Barbeque']</td>\n",
       "      <td>['Alcohol: beer_and_wine', \"Ambience: {'romant...</td>\n",
       "      <td>1</td>\n",
       "      <td>...</td>\n",
       "      <td>0</td>\n",
       "      <td>2</td>\n",
       "      <td>dy4lv5ur08x_fCKMf2yJGA</td>\n",
       "      <td>YvzoOqfBProz9SveFwJYOw</td>\n",
       "      <td>3</td>\n",
       "      <td>Late night Northern Chinese BBQ restaurant in ...</td>\n",
       "      <td>0</td>\n",
       "      <td>0</td>\n",
       "      <td>0</td>\n",
       "      <td>2015-10-20</td>\n",
       "    </tr>\n",
       "    <tr>\n",
       "      <th>1</th>\n",
       "      <td>0Yh6U06nGLjAMwCw6l9-DA</td>\n",
       "      <td>YANGSBBQRESTAURANT</td>\n",
       "      <td>4186FINCHAVENUEE</td>\n",
       "      <td>M1S 5C9</td>\n",
       "      <td>Scarborough</td>\n",
       "      <td>43.8042008789</td>\n",
       "      <td>-79.2884373665</td>\n",
       "      <td>['Restaurants', 'Barbeque']</td>\n",
       "      <td>['Alcohol: beer_and_wine', \"Ambience: {'romant...</td>\n",
       "      <td>1</td>\n",
       "      <td>...</td>\n",
       "      <td>0</td>\n",
       "      <td>1</td>\n",
       "      <td>rby1MutMX_kanEFJ30P3hg</td>\n",
       "      <td>blCeqedLmBNssP7oft_hAg</td>\n",
       "      <td>4</td>\n",
       "      <td>\"We stumbled on this restaurant and weren't su...</td>\n",
       "      <td>0</td>\n",
       "      <td>0</td>\n",
       "      <td>0</td>\n",
       "      <td>2016-10-01</td>\n",
       "    </tr>\n",
       "    <tr>\n",
       "      <th>2</th>\n",
       "      <td>0Yh6U06nGLjAMwCw6l9-DA</td>\n",
       "      <td>YANGSBBQRESTAURANT</td>\n",
       "      <td>4186FINCHAVENUEE</td>\n",
       "      <td>M1S 5C9</td>\n",
       "      <td>Scarborough</td>\n",
       "      <td>43.8042008789</td>\n",
       "      <td>-79.2884373665</td>\n",
       "      <td>['Restaurants', 'Barbeque']</td>\n",
       "      <td>['Alcohol: beer_and_wine', \"Ambience: {'romant...</td>\n",
       "      <td>1</td>\n",
       "      <td>...</td>\n",
       "      <td>0</td>\n",
       "      <td>4</td>\n",
       "      <td>OIt9UjEW9KBZ6XL5B5kkGw</td>\n",
       "      <td>wGQJjtcG1-NsxslGv4bNjw</td>\n",
       "      <td>2</td>\n",
       "      <td>\"My first impression of this place was that it...</td>\n",
       "      <td>0</td>\n",
       "      <td>0</td>\n",
       "      <td>0</td>\n",
       "      <td>2016-05-15</td>\n",
       "    </tr>\n",
       "    <tr>\n",
       "      <th>3</th>\n",
       "      <td>0Yh6U06nGLjAMwCw6l9-DA</td>\n",
       "      <td>YANGSBBQRESTAURANT</td>\n",
       "      <td>4186FINCHAVENUEE</td>\n",
       "      <td>M1S 5C9</td>\n",
       "      <td>Scarborough</td>\n",
       "      <td>43.8042008789</td>\n",
       "      <td>-79.2884373665</td>\n",
       "      <td>['Restaurants', 'Barbeque']</td>\n",
       "      <td>['Alcohol: beer_and_wine', \"Ambience: {'romant...</td>\n",
       "      <td>1</td>\n",
       "      <td>...</td>\n",
       "      <td>0</td>\n",
       "      <td>0</td>\n",
       "      <td>TMHqEjNQbtkbsmmxqfXGAg</td>\n",
       "      <td>7ymTU1NY3NXM0PnT_Z0Qhg</td>\n",
       "      <td>4</td>\n",
       "      <td>\"Went here with some friends and had the Sichu...</td>\n",
       "      <td>0</td>\n",
       "      <td>0</td>\n",
       "      <td>0</td>\n",
       "      <td>2016-01-29</td>\n",
       "    </tr>\n",
       "    <tr>\n",
       "      <th>4</th>\n",
       "      <td>0Yh6U06nGLjAMwCw6l9-DA</td>\n",
       "      <td>YANGSBBQRESTAURANT</td>\n",
       "      <td>4186FINCHAVENUEE</td>\n",
       "      <td>M1S 5C9</td>\n",
       "      <td>Scarborough</td>\n",
       "      <td>43.8042008789</td>\n",
       "      <td>-79.2884373665</td>\n",
       "      <td>['Restaurants', 'Barbeque']</td>\n",
       "      <td>['Alcohol: beer_and_wine', \"Ambience: {'romant...</td>\n",
       "      <td>1</td>\n",
       "      <td>...</td>\n",
       "      <td>0</td>\n",
       "      <td>0</td>\n",
       "      <td>sodiJQbduh11MUG7xPR0Iw</td>\n",
       "      <td>Hk7n0zKhcrRwkvqgb_MQ3Q</td>\n",
       "      <td>4</td>\n",
       "      <td>\"Came here for lunch on a Sunday around 1.30pm...</td>\n",
       "      <td>0</td>\n",
       "      <td>0</td>\n",
       "      <td>0</td>\n",
       "      <td>2016-01-11</td>\n",
       "    </tr>\n",
       "  </tbody>\n",
       "</table>\n",
       "<p>5 rows × 31 columns</p>\n",
       "</div>"
      ],
      "text/plain": [
       "                    bizID                name           address postal_code  \\\n",
       "0  0Yh6U06nGLjAMwCw6l9-DA  YANGSBBQRESTAURANT  4186FINCHAVENUEE     M1S 5C9   \n",
       "1  0Yh6U06nGLjAMwCw6l9-DA  YANGSBBQRESTAURANT  4186FINCHAVENUEE     M1S 5C9   \n",
       "2  0Yh6U06nGLjAMwCw6l9-DA  YANGSBBQRESTAURANT  4186FINCHAVENUEE     M1S 5C9   \n",
       "3  0Yh6U06nGLjAMwCw6l9-DA  YANGSBBQRESTAURANT  4186FINCHAVENUEE     M1S 5C9   \n",
       "4  0Yh6U06nGLjAMwCw6l9-DA  YANGSBBQRESTAURANT  4186FINCHAVENUEE     M1S 5C9   \n",
       "\n",
       "  neighborhood            lat            long                   categories  \\\n",
       "0  Scarborough  43.8042008789  -79.2884373665  ['Restaurants', 'Barbeque']   \n",
       "1  Scarborough  43.8042008789  -79.2884373665  ['Restaurants', 'Barbeque']   \n",
       "2  Scarborough  43.8042008789  -79.2884373665  ['Restaurants', 'Barbeque']   \n",
       "3  Scarborough  43.8042008789  -79.2884373665  ['Restaurants', 'Barbeque']   \n",
       "4  Scarborough  43.8042008789  -79.2884373665  ['Restaurants', 'Barbeque']   \n",
       "\n",
       "                                          attributes is_open     ...      \\\n",
       "0  ['Alcohol: beer_and_wine', \"Ambience: {'romant...       1     ...       \n",
       "1  ['Alcohol: beer_and_wine', \"Ambience: {'romant...       1     ...       \n",
       "2  ['Alcohol: beer_and_wine', \"Ambience: {'romant...       1     ...       \n",
       "3  ['Alcohol: beer_and_wine', \"Ambience: {'romant...       1     ...       \n",
       "4  ['Alcohol: beer_and_wine', \"Ambience: {'romant...       1     ...       \n",
       "\n",
       "  count_na count_crucial_signficant               review_id  \\\n",
       "0        0                        2  dy4lv5ur08x_fCKMf2yJGA   \n",
       "1        0                        1  rby1MutMX_kanEFJ30P3hg   \n",
       "2        0                        4  OIt9UjEW9KBZ6XL5B5kkGw   \n",
       "3        0                        0  TMHqEjNQbtkbsmmxqfXGAg   \n",
       "4        0                        0  sodiJQbduh11MUG7xPR0Iw   \n",
       "\n",
       "                  user_id review_stars  \\\n",
       "0  YvzoOqfBProz9SveFwJYOw            3   \n",
       "1  blCeqedLmBNssP7oft_hAg            4   \n",
       "2  wGQJjtcG1-NsxslGv4bNjw            2   \n",
       "3  7ymTU1NY3NXM0PnT_Z0Qhg            4   \n",
       "4  Hk7n0zKhcrRwkvqgb_MQ3Q            4   \n",
       "\n",
       "                                         review_text useful funny  cool  \\\n",
       "0  Late night Northern Chinese BBQ restaurant in ...      0     0     0   \n",
       "1  \"We stumbled on this restaurant and weren't su...      0     0     0   \n",
       "2  \"My first impression of this place was that it...      0     0     0   \n",
       "3  \"Went here with some friends and had the Sichu...      0     0     0   \n",
       "4  \"Came here for lunch on a Sunday around 1.30pm...      0     0     0   \n",
       "\n",
       "    review_dt  \n",
       "0  2015-10-20  \n",
       "1  2016-10-01  \n",
       "2  2016-05-15  \n",
       "3  2016-01-29  \n",
       "4  2016-01-11  \n",
       "\n",
       "[5 rows x 31 columns]"
      ]
     },
     "execution_count": 8,
     "metadata": {},
     "output_type": "execute_result"
    }
   ],
   "source": [
    "# The materialized view of the restaurant, inspection, and review data is \"toronto_all\"\n",
    "cur.execute(\"SELECT * FROM public.toronto_all_3 where review_date is not null and attributes is not null\" )\n",
    "obs = pd.DataFrame(cur.fetchall())\n",
    "obs.head()\n",
    "obs.columns=['bizID','name','address','postal_code','neighborhood','lat','long','categories','attributes','is_open','review_cnt','hours','stars','setablishment_id','establishment_name','establishment_address','inspection_date','last_inspection','count_minor','count_sig','count_crucial','count_na','count_crucial_signficant','review_id','user_id','review_stars','review_text','useful','funny','cool','review_dt']\n",
    "obs.head()"
   ]
  },
  {
   "cell_type": "code",
   "execution_count": 9,
   "metadata": {
    "collapsed": true
   },
   "outputs": [],
   "source": [
    "#create a primary key of restaurant ID and each unique inspection date for that restaurant\n",
    "obs['bizID-dt'] = obs['bizID'] + \"-\" + obs['inspection_date'].map(str)"
   ]
  },
  {
   "cell_type": "code",
   "execution_count": 10,
   "metadata": {},
   "outputs": [
    {
     "data": {
      "text/html": [
       "<div>\n",
       "<table border=\"1\" class=\"dataframe\">\n",
       "  <thead>\n",
       "    <tr style=\"text-align: right;\">\n",
       "      <th></th>\n",
       "      <th>bizID-dt</th>\n",
       "      <th>count_reviews_in_scope</th>\n",
       "    </tr>\n",
       "  </thead>\n",
       "  <tbody>\n",
       "    <tr>\n",
       "      <th>0</th>\n",
       "      <td>RwRNR4z3kY-4OsFqigY5sw-2015-11-03</td>\n",
       "      <td>233</td>\n",
       "    </tr>\n",
       "    <tr>\n",
       "      <th>1</th>\n",
       "      <td>jc3p5SFyt9qrrMXt6E13ig-2016-12-21</td>\n",
       "      <td>156</td>\n",
       "    </tr>\n",
       "    <tr>\n",
       "      <th>2</th>\n",
       "      <td>RwRNR4z3kY-4OsFqigY5sw-2016-03-15</td>\n",
       "      <td>148</td>\n",
       "    </tr>\n",
       "    <tr>\n",
       "      <th>3</th>\n",
       "      <td>h_4dPV9M9aYaBliH1Eoeeg-2016-05-12</td>\n",
       "      <td>138</td>\n",
       "    </tr>\n",
       "    <tr>\n",
       "      <th>4</th>\n",
       "      <td>trKyIRyjKqVSZmcU0AnICQ-2016-04-11</td>\n",
       "      <td>112</td>\n",
       "    </tr>\n",
       "  </tbody>\n",
       "</table>\n",
       "</div>"
      ],
      "text/plain": [
       "                            bizID-dt  count_reviews_in_scope\n",
       "0  RwRNR4z3kY-4OsFqigY5sw-2015-11-03                     233\n",
       "1  jc3p5SFyt9qrrMXt6E13ig-2016-12-21                     156\n",
       "2  RwRNR4z3kY-4OsFqigY5sw-2016-03-15                     148\n",
       "3  h_4dPV9M9aYaBliH1Eoeeg-2016-05-12                     138\n",
       "4  trKyIRyjKqVSZmcU0AnICQ-2016-04-11                     112"
      ]
     },
     "execution_count": 10,
     "metadata": {},
     "output_type": "execute_result"
    }
   ],
   "source": [
    "#get counts of in scope reviews for each inspeciton date of a given restaurant\n",
    "in_scope_rev = obs['bizID-dt'].value_counts()\n",
    "in_scope_reviews = pd.DataFrame(in_scope_rev).reset_index()\n",
    "in_scope_reviews.columns = ['bizID-dt','count_reviews_in_scope']\n",
    "in_scope_reviews.head()"
   ]
  },
  {
   "cell_type": "code",
   "execution_count": 11,
   "metadata": {
    "scrolled": true
   },
   "outputs": [],
   "source": [
    "#get dummies for star rating column\n",
    "obs = pd.concat([obs, pd.get_dummies(obs['review_stars'], prefix='stars')], axis=1)"
   ]
  },
  {
   "cell_type": "code",
   "execution_count": 12,
   "metadata": {},
   "outputs": [
    {
     "data": {
      "text/html": [
       "<div>\n",
       "<table border=\"1\" class=\"dataframe\">\n",
       "  <thead>\n",
       "    <tr style=\"text-align: right;\">\n",
       "      <th></th>\n",
       "      <th>bizID-dt</th>\n",
       "      <th>stars_1</th>\n",
       "      <th>stars_2</th>\n",
       "      <th>stars_3</th>\n",
       "      <th>stars_4</th>\n",
       "      <th>stars_5</th>\n",
       "    </tr>\n",
       "  </thead>\n",
       "  <tbody>\n",
       "    <tr>\n",
       "      <th>0</th>\n",
       "      <td>-2TBP3ZGu7M-FmfoNJvbrQ-2016-09-07</td>\n",
       "      <td>0</td>\n",
       "      <td>1</td>\n",
       "      <td>0</td>\n",
       "      <td>2</td>\n",
       "      <td>0</td>\n",
       "    </tr>\n",
       "    <tr>\n",
       "      <th>1</th>\n",
       "      <td>-2TBP3ZGu7M-FmfoNJvbrQ-2017-01-18</td>\n",
       "      <td>0</td>\n",
       "      <td>0</td>\n",
       "      <td>1</td>\n",
       "      <td>3</td>\n",
       "      <td>1</td>\n",
       "    </tr>\n",
       "    <tr>\n",
       "      <th>2</th>\n",
       "      <td>-76didnxGiiMO80BjSpYsQ-2015-09-01</td>\n",
       "      <td>1</td>\n",
       "      <td>1</td>\n",
       "      <td>0</td>\n",
       "      <td>0</td>\n",
       "      <td>0</td>\n",
       "    </tr>\n",
       "    <tr>\n",
       "      <th>3</th>\n",
       "      <td>-76didnxGiiMO80BjSpYsQ-2016-03-01</td>\n",
       "      <td>1</td>\n",
       "      <td>4</td>\n",
       "      <td>0</td>\n",
       "      <td>1</td>\n",
       "      <td>0</td>\n",
       "    </tr>\n",
       "    <tr>\n",
       "      <th>4</th>\n",
       "      <td>-76didnxGiiMO80BjSpYsQ-2016-09-29</td>\n",
       "      <td>2</td>\n",
       "      <td>3</td>\n",
       "      <td>0</td>\n",
       "      <td>1</td>\n",
       "      <td>1</td>\n",
       "    </tr>\n",
       "  </tbody>\n",
       "</table>\n",
       "</div>"
      ],
      "text/plain": [
       "                            bizID-dt  stars_1  stars_2  stars_3  stars_4  \\\n",
       "0  -2TBP3ZGu7M-FmfoNJvbrQ-2016-09-07        0        1        0        2   \n",
       "1  -2TBP3ZGu7M-FmfoNJvbrQ-2017-01-18        0        0        1        3   \n",
       "2  -76didnxGiiMO80BjSpYsQ-2015-09-01        1        1        0        0   \n",
       "3  -76didnxGiiMO80BjSpYsQ-2016-03-01        1        4        0        1   \n",
       "4  -76didnxGiiMO80BjSpYsQ-2016-09-29        2        3        0        1   \n",
       "\n",
       "   stars_5  \n",
       "0        0  \n",
       "1        1  \n",
       "2        0  \n",
       "3        0  \n",
       "4        1  "
      ]
     },
     "execution_count": 12,
     "metadata": {},
     "output_type": "execute_result"
    }
   ],
   "source": [
    "#Get counts of each star rating for a given restaurant\n",
    "stars = obs.groupby('bizID-dt')[['stars_1', 'stars_2','stars_3','stars_4','stars_5']].sum().reset_index()\n",
    "stars.head()"
   ]
  },
  {
   "cell_type": "code",
   "execution_count": 13,
   "metadata": {
    "collapsed": true
   },
   "outputs": [],
   "source": [
    "#merge review text based on the business-inspection date primary key\n",
    "combined_revs = obs.groupby('bizID-dt')['review_text'].apply(' '.join).reset_index()"
   ]
  },
  {
   "cell_type": "code",
   "execution_count": 14,
   "metadata": {
    "collapsed": true
   },
   "outputs": [],
   "source": [
    "#get a unique count of the users that reviewed the restaurant after the last inspection \n",
    "#and before the current inspection\n",
    "users = obs.groupby('bizID-dt')['user_id'].count().reset_index()\n",
    "users.columns = ['bizID-dt','count_unique_users']"
   ]
  },
  {
   "cell_type": "code",
   "execution_count": 15,
   "metadata": {},
   "outputs": [],
   "source": [
    "sub = obs[['bizID-dt','bizID',\n",
    "           'name','postal_code',\n",
    "           'lat','long','categories',\n",
    "           'attributes','is_open',\n",
    "           'count_crucial_signficant','stars']]\n",
    "sub = sub.drop_duplicates()"
   ]
  },
  {
   "cell_type": "code",
   "execution_count": 16,
   "metadata": {
    "collapsed": true,
    "scrolled": true
   },
   "outputs": [],
   "source": [
    "#merge in all data into one df\n",
    "df1 = pd.merge(sub,stars,on='bizID-dt', how='left')\n",
    "df2 = pd.merge(df1,combined_revs,on='bizID-dt', how='left')\n",
    "df3 = pd.merge(df2,rev_counts,on='bizID', how='left')\n",
    "df4 = pd.merge(df3,in_scope_reviews,on='bizID-dt', how='left')\n",
    "df5 = pd.merge(df4,users,on='bizID-dt', how='left')\n"
   ]
  },
  {
   "cell_type": "markdown",
   "metadata": {},
   "source": [
    "### Parsing the \"Categories\" and \"Attributes\" columns into unique features\n",
    "The next cell parses the 'Categories' and 'Attributes' columns,which are nested dicitonaries of different attributesof each restaurant. The categroy column captures descriptive features such as the types of cuisine served, and wheter or not the restaurant is a bar. The atttributes column captures features such as the 'ambiance' of the restaurant, parking, noise level, and other unique features."
   ]
  },
  {
   "cell_type": "code",
   "execution_count": 17,
   "metadata": {
    "collapsed": true,
    "scrolled": true
   },
   "outputs": [],
   "source": [
    "t = []\n",
    "for i in range(len(df5['categories'])):\n",
    "    x = ast.literal_eval(df5['categories'][i])\n",
    "    t.append(x)\n",
    "    \n",
    "cats = pd.DataFrame(t)\n",
    "cats_df = pd.get_dummies(cats, prefix='Category')\n",
    "cats_df = cats_df.groupby(cats_df.columns, axis=1).sum()\n",
    "\n",
    "\n",
    "atts_df = pd.DataFrame()\n",
    "for x in range(len(df5['attributes'])):\n",
    "    list_yelp = ast.literal_eval(df5['attributes'][x])\n",
    "\n",
    "    attribute_list = []\n",
    "    attribute_name = []\n",
    "\n",
    "    for i in list_yelp:\n",
    "\n",
    "        name = i.split(\":\")[0]\n",
    "        values = i.split( name+\": \" )[1].replace('{','').replace('}','')\n",
    "\n",
    "        if len(values.split(\":\")) > 1: \n",
    "        \n",
    "            for j in values.split(\",\"):\n",
    "                name_j = name + \"_\" + (j.split(\":\")[0].strip().replace(\"'\",''))\n",
    "                attribute_name.append( name_j )\n",
    "                attribute_list.append (j.split(\":\")[1])\n",
    "        else:\n",
    "            attribute_name.append( name )\n",
    "            attribute_list.append ( values )\n",
    "        \n",
    "    dataframe = pd.DataFrame(attribute_list).transpose()\n",
    "    dataframe.columns = attribute_name\n",
    "    atts_df = atts_df.append(dataframe)\n",
    "    \n",
    "atts_df = atts_df.reset_index().drop('index', 1)\n",
    "\n",
    "df = pd.concat([df5, cats_df, atts_df], axis=1)\n"
   ]
  },
  {
   "cell_type": "markdown",
   "metadata": {},
   "source": [
    "Next, we create dummy variables for all of the attribute and category features that were generated in the previous step. We want to capture if the attribute is true, false, or nor applicable for the restaurant."
   ]
  },
  {
   "cell_type": "code",
   "execution_count": 18,
   "metadata": {
    "collapsed": true
   },
   "outputs": [],
   "source": [
    "#dummy-ize all categorical and boolean variables\n",
    "df=pd.get_dummies(df, columns=[\n",
    " 'Alcohol',\n",
    " 'Ambience_casual',\n",
    " 'Ambience_classy',\n",
    " 'Ambience_hipster',\n",
    " 'Ambience_intimate',\n",
    " 'Ambience_romantic',\n",
    " 'Ambience_touristy',\n",
    " 'Ambience_trendy',\n",
    " 'Ambience_upscale',\n",
    " 'BikeParking',\n",
    " 'BusinessAcceptsCreditCards',\n",
    " 'BusinessParking_garage',\n",
    " 'BusinessParking_lot',\n",
    " 'BusinessParking_street',\n",
    " 'BusinessParking_valet',\n",
    " 'BusinessParking_validated',\n",
    " 'Caters',\n",
    " 'GoodForKids',\n",
    " 'GoodForMeal_breakfast',\n",
    " 'GoodForMeal_brunch',\n",
    " 'GoodForMeal_dessert',\n",
    " 'GoodForMeal_dinner',\n",
    " 'GoodForMeal_latenight',\n",
    " 'GoodForMeal_lunch',\n",
    " 'HasTV',\n",
    " 'NoiseLevel',\n",
    " 'OutdoorSeating',\n",
    " 'RestaurantsAttire',\n",
    " 'RestaurantsDelivery',\n",
    " 'RestaurantsGoodForGroups',\n",
    " 'RestaurantsPriceRange2',\n",
    " 'RestaurantsReservations',\n",
    " 'RestaurantsTableService',\n",
    " 'RestaurantsTakeOut',\n",
    " 'WiFi', \n",
    " 'is_open',\n",
    "'BestNights_friday',\n",
    " 'BestNights_monday',\n",
    " 'BestNights_saturday',\n",
    " 'BestNights_sunday',\n",
    " 'BestNights_thursday',\n",
    " 'BestNights_tuesday',\n",
    " 'BestNights_wednesday',\n",
    "     'ByAppointmentOnly',\n",
    " 'CoatCheck',\n",
    " 'DogsAllowed',\n",
    " 'DriveThru',\n",
    " 'GoodForDancing',\n",
    " 'HappyHour',\n",
    " 'Music_background_music',\n",
    " 'Music_dj',\n",
    " 'Music_jukebox',\n",
    " 'Music_karaoke',\n",
    " 'Music_live',\n",
    " 'Music_no_music',\n",
    " 'Music_video',\n",
    " 'Open24Hours',\n",
    " 'RestaurantsCounterService',\n",
    " 'Smoking',\n",
    " 'WheelchairAccessible'\n",
    "  ]\n",
    "  , dummy_na=True)\n"
   ]
  },
  {
   "cell_type": "code",
   "execution_count": 19,
   "metadata": {
    "collapsed": true
   },
   "outputs": [],
   "source": [
    "#useful code to view all columns of df\n",
    "pd.set_option('display.max_columns', None)"
   ]
  },
  {
   "cell_type": "code",
   "execution_count": 20,
   "metadata": {
    "collapsed": true
   },
   "outputs": [],
   "source": [
    "#remove all of the extraneous features\n",
    "#backup=df\n",
    "del df['categories']\n",
    "del df['attributes']\n",
    "del df['name']\n",
    "del df['bizID']\n",
    "del df['bizID-dt']\n",
    "del df['lat']\n",
    "del df['long']\n",
    "del df['postal_code']\n",
    "#Make a True/False target variable to label each inspection event with wether or not a critical violaton was found\n",
    "df['count_crucial_signficant']= (df['count_crucial_signficant']>0)*1"
   ]
  },
  {
   "cell_type": "markdown",
   "metadata": {},
   "source": [
    "### Text feature extraction, stop word removal, and lemmatization"
   ]
  },
  {
   "cell_type": "code",
   "execution_count": 21,
   "metadata": {
    "collapsed": true
   },
   "outputs": [],
   "source": [
    "\n",
    "from nltk.corpus import stopwords\n",
    "import nltk\n",
    "import string\n",
    "stop = stopwords.words('english')\n",
    "df['review_text']=df['review_text'].str.lower()\n",
    "df['review_text'] = df['review_text'].apply(lambda x: '  '.join([word for word in x.split() if word not in (stop)]))\n",
    "ps = nltk.stem.WordNetLemmatizer()\n",
    "df['review_text']=df[\"review_text\"].apply(lambda x:[ps.lemmatize(y,pos='v') for y in x.split()])\n",
    "df['review_text']=df['review_text'].apply(lambda x: ',  '.join(x))\n",
    "translator = str.maketrans('', '', string.punctuation)\n",
    "df['review_text'] = df['review_text'].str.translate(translator)\n",
    "df['stars'] = df.stars.astype(float)"
   ]
  },
  {
   "cell_type": "code",
   "execution_count": 22,
   "metadata": {},
   "outputs": [
    {
     "data": {
      "text/plain": [
       "0"
      ]
     },
     "execution_count": 22,
     "metadata": {},
     "output_type": "execute_result"
    }
   ],
   "source": [
    "import gc\n",
    "gc.collect()"
   ]
  },
  {
   "cell_type": "markdown",
   "metadata": {},
   "source": [
    "## 3. Modeling and Text Vectorization\n",
    "First, we import all necessary packages. By comparing the results of several vectorizing methods as well as several moeling methods, we can determine which combination yield best performance."
   ]
  },
  {
   "cell_type": "code",
   "execution_count": 23,
   "metadata": {
    "collapsed": true
   },
   "outputs": [],
   "source": [
    "df_test = df[df['count_reviews_in_scope'] >0]\n",
    "X_ntext = df_test.drop(['review_text','count_crucial_signficant'], axis=1)\n",
    "\n",
    "from sklearn.feature_extraction.text import TfidfVectorizer\n",
    "#separate the non text features so that we only transform the text\n",
    "X_text = df_test['review_text']\n",
    "X_ntext = df_test.drop(['review_text','count_crucial_signficant'], axis=1)\n",
    "\n",
    "# set up a few different vectorizers to test\n",
    "count_vectorizer = CountVectorizer(binary=True, ngram_range=(1, 3))\n",
    "bigram_vectorizer = TfidfVectorizer(ngram_range = (1,3))\n"
   ]
  },
  {
   "cell_type": "markdown",
   "metadata": {},
   "source": [
    "### Linear Regression\n",
    "##### Basic Linear Regression 3-fold CV , TfidfVectorizer(ngram_range = (1,3))"
   ]
  },
  {
   "cell_type": "code",
   "execution_count": 24,
   "metadata": {},
   "outputs": [
    {
     "name": "stdout",
     "output_type": "stream",
     "text": [
      "Best parameters set found on development set:{'C': 0.01, 'penalty': 'l2'}\n"
     ]
    }
   ],
   "source": [
    "#vectorize using count vectorizer and 3-gram features and create train/test split\n",
    "from sklearn.model_selection import cross_val_score\n",
    "from sklearn.model_selection import GridSearchCV\n",
    "\n",
    "X1 = scipy.sparse.hstack((bigram_vectorizer.fit_transform(df_test.review_text), X_ntext))\n",
    "Y1 = df_test['count_crucial_signficant']\n",
    "X_train1, X_test1, Y_train1, Y_test1 = train_test_split(X1, Y1, train_size=.75)\n",
    "\n",
    "lr = LogisticRegression()\n",
    "lr_parameters = {'C':[0.0001,0.001,,0.1,1,10],\n",
    "                'penalty':['l1','l2']}\n",
    "\n",
    "lr_cv = GridSearchCV(lr,lr_parameters)\n",
    "lr_cv.fit(X_train1,Y_train1)\n",
    "\n",
    "print(\"Best parameters set found on development set:\"+str(lr_cv.best_params_))"
   ]
  },
  {
   "cell_type": "code",
   "execution_count": 25,
   "metadata": {},
   "outputs": [
    {
     "name": "stdout",
     "output_type": "stream",
     "text": [
      "Average AUC using 3-fold CV and optimized parameterts on test data = 0.536\n"
     ]
    }
   ],
   "source": [
    " print (\"Average AUC using 3-fold CV and optimized parameters on test data = %.3f\" % \n",
    "        np.mean(cross_val_score(lr_cv, X_test1, Y_test1, scoring=\"roc_auc\", cv=3)))"
   ]
  },
  {
   "cell_type": "markdown",
   "metadata": {},
   "source": [
    "##### Basic Linear Regression 3-fold CV , CountVectorizer(binary=True, ngram_range=(1, 3))"
   ]
  },
  {
   "cell_type": "code",
   "execution_count": 30,
   "metadata": {},
   "outputs": [
    {
     "name": "stdout",
     "output_type": "stream",
     "text": [
      "Best parameters set found on development set:{'C': 0.01, 'penalty': 'l1'}\n"
     ]
    }
   ],
   "source": [
    "#vectorize using hash vectorixer and tfidf and create train/test split\n",
    "X2 = scipy.sparse.hstack((count_vectorizer.fit_transform(df_test.review_text), X_ntext))\n",
    "Y2 = df['count_crucial_signficant']\n",
    "X_train2, X_test2, Y_train2, Y_test2 = train_test_split(X2, Y2, train_size=.75)\n",
    "\n",
    "lr2 = LogisticRegression()\n",
    "lr_parameters = {'C':[0.0001,0.001,0.01,0.1,1,10],\n",
    "                'penalty':['l1','l2']}\n",
    "lr_cv2 = GridSearchCV(lr,lr_parameters)\n",
    "lr_cv2.fit(X_train2, Y_train2)\n",
    "\n",
    "print(\"Best parameters set found on development set:\"+str(lr_cv2.best_params_))"
   ]
  },
  {
   "cell_type": "code",
   "execution_count": 43,
   "metadata": {},
   "outputs": [
    {
     "name": "stdout",
     "output_type": "stream",
     "text": [
      "Average AUC using 3-fold CV and optimized parameterts on test data = 0.530\n"
     ]
    }
   ],
   "source": [
    "auc = np.mean(cross_val_score(lr_cv2, X_test2, Y_test2, scoring=\"roc_auc\", cv=3))\n",
    "print (\"Average AUC using 3-fold CV and optimized parameterts on test data = %.3f\" % \n",
    "     auc  )"
   ]
  },
  {
   "cell_type": "markdown",
   "metadata": {},
   "source": [
    "##### Comparison of CountVectorizer optimized Linear Regression to TFIDFVectorizer Optimized Linear Regression"
   ]
  },
  {
   "cell_type": "code",
   "execution_count": 46,
   "metadata": {},
   "outputs": [
    {
     "data": {
      "text/plain": [
       "<matplotlib.legend.Legend at 0x13cdb3e80>"
      ]
     },
     "execution_count": 46,
     "metadata": {},
     "output_type": "execute_result"
    },
    {
     "data": {
      "image/png": "[encoded data removed]",
      "text/plain": [
       "<matplotlib.figure.Figure at 0x142db5ef0>"
      ]
     },
     "metadata": {},
     "output_type": "display_data"
    }
   ],
   "source": [
    "import matplotlib.pylab as plt\n",
    "%matplotlib inline\n",
    "plt.rcParams['figure.figsize'] = 10, 8\n",
    "\n",
    "# Get the probability of Y_test records being = 1\n",
    "Y_test_probability_1 = lr_cv2.predict_proba(X_test2)[:, 1]\n",
    "\n",
    "#Use the metrics.roc_curve function to get the true positive rate (tpr) and false positive rate (fpr)\n",
    "tpr, fpr, thresholds = metrics.roc_curve(Y_test2, Y_test_probability_1)\n",
    "\n",
    "# Plot the ROC curve\n",
    "plt.plot(tpr, fpr, label=\"AUC - LR with optimized parameters and count vectorizer: \" + str(round(auc, 2)))\n",
    "    \n",
    "plt.xlabel(\"False positive rate (fpr)\")\n",
    "plt.ylabel(\"True positive rate (tpr)\")\n",
    "plt.plot([0,1], [0,1], 'k--', label=\"Random\")\n",
    "plt.legend(loc=2)"
   ]
  },
  {
   "cell_type": "markdown",
   "metadata": {},
   "source": [
    "### Random Forest"
   ]
  },
  {
   "cell_type": "code",
   "execution_count": 36,
   "metadata": {},
   "outputs": [
    {
     "name": "stdout",
     "output_type": "stream",
     "text": [
      "Area under the ROC curve on test data = 0.471\n"
     ]
    }
   ],
   "source": [
    "\n",
    "from sklearn.ensemble import RandomForestClassifier\n",
    "rf = RandomForestClassifier()\n",
    "rf.fit(X_train2, Y_train2)\n",
    "\n",
    "print (\"Area under the ROC curve on test data = %.3f\" % metrics.roc_auc_score(rf.predict(X_test2), Y_test2))"
   ]
  },
  {
   "cell_type": "markdown",
   "metadata": {},
   "source": [
    "From the grid search tests above, we see that neither Linear Regression not Random Forests seem to yield results that are siginificantly better than random.\n",
    "\n",
    "Other methods including Gradient Descent and a Restricted Boltazman Machine Neural Net are implemented below. Because the count vectorizer performed better than the TFIDF vectorizer, we use this vectorization in these methods."
   ]
  },
  {
   "cell_type": "markdown",
   "metadata": {},
   "source": [
    "### Restricted Boltzmann Machine"
   ]
  },
  {
   "cell_type": "code",
   "execution_count": null,
   "metadata": {
    "collapsed": true
   },
   "outputs": [],
   "source": [
    "# from sklearn.neural_network import BernoulliRBM\n",
    "\n",
    "# X1 = scipy.sparse.hstack((bigram_vectorizer.fit_transform(df_test.review_text), X_ntext))\n",
    "# Y1 = df_test['count_crucial_signficant']\n",
    "# X_train1, X_test1, Y_train1, Y_test1 = train_test_split(X1, Y1, train_size=.75)\n",
    "\n",
    "# model = BernoulliRBM()\n",
    "# model.learning_rate = 0.06\n",
    "# model.n_iter = 20\n",
    "# # More components tend to give better prediction performance, but larger\n",
    "# # fitting time\n",
    "# model.n_components = 100\n",
    "\n",
    "# model.fit(X_train1, Y_train1)\n",
    "# print (\"Area under the ROC curve on test data = %.3f\" % metrics.roc_auc_score(model.predict(X_test1), Y_test1))"
   ]
  }
 ],
 "metadata": {
  "anaconda-cloud": {},
  "kernelspec": {
   "display_name": "Python 3",
   "language": "python",
   "name": "python3"
  },
  "language_info": {
   "codemirror_mode": {
    "name": "ipython",
    "version": 3
   },
   "file_extension": ".py",
   "mimetype": "text/x-python",
   "name": "python",
   "nbconvert_exporter": "python",
   "pygments_lexer": "ipython3",
   "version": "3.6.1"
  }
 },
 "nbformat": 4,
 "nbformat_minor": 2
}
