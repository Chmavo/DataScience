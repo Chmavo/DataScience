{
 "cells": [
  {
   "cell_type": "markdown",
   "metadata": {},
   "source": [
    "# Predicting Health Inspection Violaitons from Yelp Reviews and Business Attributes"
   ]
  },
  {
   "cell_type": "markdown",
   "metadata": {},
   "source": [
    "## 1. Environment Setup"
   ]
  },
  {
   "cell_type": "code",
   "execution_count": 1,
   "metadata": {
    "collapsed": true,
    "scrolled": false
   },
   "outputs": [],
   "source": [
    "import psycopg2 as psy\n",
    "import pandas as pd\n",
    "import re\n",
    "import numpy as np\n",
    "import ast\n",
    "\n",
    "\n",
    "from sklearn.svm import LinearSVC\n",
    "from sklearn.feature_extraction.text import CountVectorizer\n",
    "from sklearn.feature_extraction.text import TfidfTransformer\n",
    "from sklearn.feature_extraction.text import HashingVectorizer\n",
    "import scipy.sparse\n",
    "import sklearn.pipeline as pipe"
   ]
  },
  {
   "cell_type": "markdown",
   "metadata": {},
   "source": [
    "## 2. Data Preparation"
   ]
  },
  {
   "cell_type": "markdown",
   "metadata": {},
   "source": [
    "Connect to database and download initial datasets. These datasets are materialized views of the Yelp business data converted from JSON format, and the Toronto Inspection dataset imported from CSV. All attributes have been normalized to remove leading spaces, JSON tags, and unreadable characters."
   ]
  },
  {
   "cell_type": "code",
   "execution_count": 2,
   "metadata": {
    "collapsed": true,
    "scrolled": false
   },
   "outputs": [],
   "source": [
    "#set up connection to our DB\n",
    "conn = psy.connect(database=\"sterndsyelp\", \n",
    "                        user=\"mvsternds\", \n",
    "                        password=\"nyustern123!\", \n",
    "                        host=\"sterndsyelp.cawzspvmqd5q.us-east-1.rds.amazonaws.com\", \n",
    "                        port=\"5432\"\n",
    "                       )\n",
    "#open cursor and check our tables in the DB\n",
    "cur = conn.cursor()"
   ]
  },
  {
   "cell_type": "code",
   "execution_count": 4,
   "metadata": {
    "collapsed": true,
    "scrolled": true
   },
   "outputs": [],
   "source": [
    "#get Yelp review text\n",
    "cur.execute(\"SELECT * FROM public.toronto_reviews\")\n",
    "reviews = pd.DataFrame(cur.fetchall())\n",
    "reviews.columns = ['bizID','reviewID','userID','type','stars','text','useful','funny','cool','date']\n",
    "\n",
    "#get total reviews per biz\n",
    "rev = reviews['bizID'].value_counts()\n",
    "rev_counts = pd.DataFrame(rev).reset_index()\n",
    "rev_counts.columns = ['bizID','all_review_count']"
   ]
  },
  {
   "cell_type": "markdown",
   "metadata": {},
   "source": [
    "### Join Yelp Review Data with Inspection Dataset"
   ]
  },
  {
   "cell_type": "markdown",
   "metadata": {},
   "source": [
    "#### Levenshtein Distance (in-database) \n",
    "This option joins the yelp restaurant informaiton to each inspection record where:\n",
    " * The [Levenshtein distance](https://xlinux.nist.gov/dads/HTML/Levenshtein.html) of the restaurant name from the two datasets is <3\n",
    " * The distance of the address from each dataset is <4\n",
    " * The date of the review is greater than the prior inspection date\n",
    " * The date of the review is less than or equal to inspeciton date on the record\n",
    " * The absolute value difference of the \"star\" rating in the review is less than or equal to 2 (this may reduce biased reviews that are too far from the mean)\n",
    " \n",
    "Whitespace at the beginning and end of the name and address in each dataset is trimmed, and the strings are converted to uppercase before matching. The mathcing thresholds can be adjusted to increase potential for matching, or decrease false matches."
   ]
  },
  {
   "cell_type": "code",
   "execution_count": 17,
   "metadata": {
    "scrolled": true
   },
   "outputs": [
    {
     "data": {
      "text/html": [
       "<div>\n",
       "<table border=\"1\" class=\"dataframe\">\n",
       "  <thead>\n",
       "    <tr style=\"text-align: right;\">\n",
       "      <th></th>\n",
       "      <th>bizID</th>\n",
       "      <th>name</th>\n",
       "      <th>address</th>\n",
       "      <th>postal_code</th>\n",
       "      <th>neighborhood</th>\n",
       "      <th>lat</th>\n",
       "      <th>long</th>\n",
       "      <th>categories</th>\n",
       "      <th>attributes</th>\n",
       "      <th>is_open</th>\n",
       "      <th>...</th>\n",
       "      <th>crucial_signficant</th>\n",
       "      <th>review_id</th>\n",
       "      <th>user_id</th>\n",
       "      <th>review_stars</th>\n",
       "      <th>review_text</th>\n",
       "      <th>useful</th>\n",
       "      <th>funny</th>\n",
       "      <th>cool</th>\n",
       "      <th>review_dt</th>\n",
       "      <th>last_insp_cs</th>\n",
       "    </tr>\n",
       "  </thead>\n",
       "  <tbody>\n",
       "    <tr>\n",
       "      <th>0</th>\n",
       "      <td>tR5s0D0YRrh-fjFhb64O9w</td>\n",
       "      <td>TIMHORTONS</td>\n",
       "      <td>5975STEELESAVENUEE</td>\n",
       "      <td>M1V 5P6</td>\n",
       "      <td>Scarborough</td>\n",
       "      <td>43.8349423</td>\n",
       "      <td>-79.2569201</td>\n",
       "      <td>['Bagels', 'Coffee &amp; Tea', 'Food', 'Donuts']</td>\n",
       "      <td>['BikeParking: False', 'BusinessAcceptsCreditC...</td>\n",
       "      <td>1</td>\n",
       "      <td>...</td>\n",
       "      <td>0</td>\n",
       "      <td>CkETJtVfBwJ8vacVAGGVNg</td>\n",
       "      <td>l3iHVF_IeMiHzo8x1lmNtQ</td>\n",
       "      <td>3</td>\n",
       "      <td>\"Love the attitude of the staff here but on nu...</td>\n",
       "      <td>0</td>\n",
       "      <td>0</td>\n",
       "      <td>0</td>\n",
       "      <td>2016-12-21</td>\n",
       "      <td>0</td>\n",
       "    </tr>\n",
       "    <tr>\n",
       "      <th>1</th>\n",
       "      <td>nY2oBwH3s5sKox1mERIoVQ</td>\n",
       "      <td>EPICURECAFEGRILL</td>\n",
       "      <td>502QUEENSTREETW</td>\n",
       "      <td>M5V 2B3</td>\n",
       "      <td>Alexandra Park</td>\n",
       "      <td>43.6477412</td>\n",
       "      <td>-79.4012788</td>\n",
       "      <td>['American (New)', 'Nightlife', 'Bars', 'Resta...</td>\n",
       "      <td>['Alcohol: full_bar', \"Ambience: {'romantic': ...</td>\n",
       "      <td>1</td>\n",
       "      <td>...</td>\n",
       "      <td>0</td>\n",
       "      <td>oBuXd6LY0GpGCNRr_zm4aA</td>\n",
       "      <td>bvcoVDag6g140bwtb0x4eg</td>\n",
       "      <td>4</td>\n",
       "      <td>\"So I've walked past this place numerous times...</td>\n",
       "      <td>0</td>\n",
       "      <td>0</td>\n",
       "      <td>0</td>\n",
       "      <td>2015-09-23</td>\n",
       "      <td>0</td>\n",
       "    </tr>\n",
       "    <tr>\n",
       "      <th>2</th>\n",
       "      <td>nY2oBwH3s5sKox1mERIoVQ</td>\n",
       "      <td>EPICURECAFEGRILL</td>\n",
       "      <td>502QUEENSTREETW</td>\n",
       "      <td>M5V 2B3</td>\n",
       "      <td>Alexandra Park</td>\n",
       "      <td>43.6477412</td>\n",
       "      <td>-79.4012788</td>\n",
       "      <td>['American (New)', 'Nightlife', 'Bars', 'Resta...</td>\n",
       "      <td>['Alcohol: full_bar', \"Ambience: {'romantic': ...</td>\n",
       "      <td>1</td>\n",
       "      <td>...</td>\n",
       "      <td>0</td>\n",
       "      <td>lbvLED3-HVwXh-EeZ4OemQ</td>\n",
       "      <td>48ZbrRSE_fFKGyW_oCRGkQ</td>\n",
       "      <td>5</td>\n",
       "      <td>I had a very good experience at this place.  T...</td>\n",
       "      <td>0</td>\n",
       "      <td>0</td>\n",
       "      <td>0</td>\n",
       "      <td>2015-08-29</td>\n",
       "      <td>0</td>\n",
       "    </tr>\n",
       "    <tr>\n",
       "      <th>3</th>\n",
       "      <td>nY2oBwH3s5sKox1mERIoVQ</td>\n",
       "      <td>EPICURECAFEGRILL</td>\n",
       "      <td>502QUEENSTREETW</td>\n",
       "      <td>M5V 2B3</td>\n",
       "      <td>Alexandra Park</td>\n",
       "      <td>43.6477412</td>\n",
       "      <td>-79.4012788</td>\n",
       "      <td>['American (New)', 'Nightlife', 'Bars', 'Resta...</td>\n",
       "      <td>['Alcohol: full_bar', \"Ambience: {'romantic': ...</td>\n",
       "      <td>1</td>\n",
       "      <td>...</td>\n",
       "      <td>0</td>\n",
       "      <td>sgkcwpayw8uLLSjhLAgGqw</td>\n",
       "      <td>COxdRkjbxnvIDr-1NyiOhg</td>\n",
       "      <td>4</td>\n",
       "      <td>\"Food here is great for brunch...I've had it m...</td>\n",
       "      <td>0</td>\n",
       "      <td>0</td>\n",
       "      <td>0</td>\n",
       "      <td>2015-09-02</td>\n",
       "      <td>0</td>\n",
       "    </tr>\n",
       "    <tr>\n",
       "      <th>4</th>\n",
       "      <td>nY2oBwH3s5sKox1mERIoVQ</td>\n",
       "      <td>EPICURECAFEGRILL</td>\n",
       "      <td>502QUEENSTREETW</td>\n",
       "      <td>M5V 2B3</td>\n",
       "      <td>Alexandra Park</td>\n",
       "      <td>43.6477412</td>\n",
       "      <td>-79.4012788</td>\n",
       "      <td>['American (New)', 'Nightlife', 'Bars', 'Resta...</td>\n",
       "      <td>['Alcohol: full_bar', \"Ambience: {'romantic': ...</td>\n",
       "      <td>1</td>\n",
       "      <td>...</td>\n",
       "      <td>0</td>\n",
       "      <td>S8EW6AVbMx8ynvk95Ol61w</td>\n",
       "      <td>ApVEdjV51Frz30df6Y2JXg</td>\n",
       "      <td>4</td>\n",
       "      <td>Nice cozy spot. Had the Mediterranean Bruschet...</td>\n",
       "      <td>0</td>\n",
       "      <td>0</td>\n",
       "      <td>0</td>\n",
       "      <td>2015-11-23</td>\n",
       "      <td>0</td>\n",
       "    </tr>\n",
       "  </tbody>\n",
       "</table>\n",
       "<p>5 rows × 32 columns</p>\n",
       "</div>"
      ],
      "text/plain": [
       "                    bizID              name             address postal_code  \\\n",
       "0  tR5s0D0YRrh-fjFhb64O9w        TIMHORTONS  5975STEELESAVENUEE     M1V 5P6   \n",
       "1  nY2oBwH3s5sKox1mERIoVQ  EPICURECAFEGRILL     502QUEENSTREETW     M5V 2B3   \n",
       "2  nY2oBwH3s5sKox1mERIoVQ  EPICURECAFEGRILL     502QUEENSTREETW     M5V 2B3   \n",
       "3  nY2oBwH3s5sKox1mERIoVQ  EPICURECAFEGRILL     502QUEENSTREETW     M5V 2B3   \n",
       "4  nY2oBwH3s5sKox1mERIoVQ  EPICURECAFEGRILL     502QUEENSTREETW     M5V 2B3   \n",
       "\n",
       "     neighborhood         lat         long  \\\n",
       "0     Scarborough  43.8349423  -79.2569201   \n",
       "1  Alexandra Park  43.6477412  -79.4012788   \n",
       "2  Alexandra Park  43.6477412  -79.4012788   \n",
       "3  Alexandra Park  43.6477412  -79.4012788   \n",
       "4  Alexandra Park  43.6477412  -79.4012788   \n",
       "\n",
       "                                          categories  \\\n",
       "0       ['Bagels', 'Coffee & Tea', 'Food', 'Donuts']   \n",
       "1  ['American (New)', 'Nightlife', 'Bars', 'Resta...   \n",
       "2  ['American (New)', 'Nightlife', 'Bars', 'Resta...   \n",
       "3  ['American (New)', 'Nightlife', 'Bars', 'Resta...   \n",
       "4  ['American (New)', 'Nightlife', 'Bars', 'Resta...   \n",
       "\n",
       "                                          attributes is_open      ...       \\\n",
       "0  ['BikeParking: False', 'BusinessAcceptsCreditC...       1      ...        \n",
       "1  ['Alcohol: full_bar', \"Ambience: {'romantic': ...       1      ...        \n",
       "2  ['Alcohol: full_bar', \"Ambience: {'romantic': ...       1      ...        \n",
       "3  ['Alcohol: full_bar', \"Ambience: {'romantic': ...       1      ...        \n",
       "4  ['Alcohol: full_bar', \"Ambience: {'romantic': ...       1      ...        \n",
       "\n",
       "  crucial_signficant               review_id                 user_id  \\\n",
       "0                  0  CkETJtVfBwJ8vacVAGGVNg  l3iHVF_IeMiHzo8x1lmNtQ   \n",
       "1                  0  oBuXd6LY0GpGCNRr_zm4aA  bvcoVDag6g140bwtb0x4eg   \n",
       "2                  0  lbvLED3-HVwXh-EeZ4OemQ  48ZbrRSE_fFKGyW_oCRGkQ   \n",
       "3                  0  sgkcwpayw8uLLSjhLAgGqw  COxdRkjbxnvIDr-1NyiOhg   \n",
       "4                  0  S8EW6AVbMx8ynvk95Ol61w  ApVEdjV51Frz30df6Y2JXg   \n",
       "\n",
       "  review_stars                                        review_text useful  \\\n",
       "0            3  \"Love the attitude of the staff here but on nu...      0   \n",
       "1            4  \"So I've walked past this place numerous times...      0   \n",
       "2            5  I had a very good experience at this place.  T...      0   \n",
       "3            4  \"Food here is great for brunch...I've had it m...      0   \n",
       "4            4  Nice cozy spot. Had the Mediterranean Bruschet...      0   \n",
       "\n",
       "  funny cool   review_dt  last_insp_cs  \n",
       "0     0    0  2016-12-21             0  \n",
       "1     0    0  2015-09-23             0  \n",
       "2     0    0  2015-08-29             0  \n",
       "3     0    0  2015-09-02             0  \n",
       "4     0    0  2015-11-23             0  \n",
       "\n",
       "[5 rows x 32 columns]"
      ]
     },
     "execution_count": 17,
     "metadata": {},
     "output_type": "execute_result"
    }
   ],
   "source": [
    "# The materialized view of the restaurant, inspection, and review data is \"toronto_all\"\n",
    "cur.execute(\"SELECT * FROM public.toronto_all_3 where review_date is not null and attributes is not null order by  establishment_id, inspection_date\" )\n",
    "obs = pd.DataFrame(cur.fetchall())\n",
    "obs.head()\n",
    "obs.columns=['bizID','name','address','postal_code','neighborhood','lat','long','categories','attributes','is_open','review_cnt','hours','stars','setablishment_id','establishment_name','establishment_address','inspection_date','last_inspection','count_minor','count_sig','count_crucial','count_na','crucial_signficant','review_id','user_id','review_stars','review_text','useful','funny','cool','review_dt','last_insp_cs']\n",
    "obs.head()"
   ]
  },
  {
   "cell_type": "code",
   "execution_count": 18,
   "metadata": {
    "scrolled": false
   },
   "outputs": [],
   "source": [
    "#create a primary key of restaurant ID and each unique inspection date for that restaurant\n",
    "obs['bizID-dt'] = obs['bizID'] + \"-\" + obs['inspection_date'].map(str)"
   ]
  },
  {
   "cell_type": "code",
   "execution_count": 19,
   "metadata": {
    "scrolled": false
   },
   "outputs": [
    {
     "data": {
      "text/html": [
       "<div>\n",
       "<table border=\"1\" class=\"dataframe\">\n",
       "  <thead>\n",
       "    <tr style=\"text-align: right;\">\n",
       "      <th></th>\n",
       "      <th>bizID-dt</th>\n",
       "      <th>count_reviews_in_scope</th>\n",
       "    </tr>\n",
       "  </thead>\n",
       "  <tbody>\n",
       "    <tr>\n",
       "      <th>0</th>\n",
       "      <td>RwRNR4z3kY-4OsFqigY5sw-2015-11-03</td>\n",
       "      <td>233</td>\n",
       "    </tr>\n",
       "    <tr>\n",
       "      <th>1</th>\n",
       "      <td>jc3p5SFyt9qrrMXt6E13ig-2016-12-21</td>\n",
       "      <td>156</td>\n",
       "    </tr>\n",
       "    <tr>\n",
       "      <th>2</th>\n",
       "      <td>RwRNR4z3kY-4OsFqigY5sw-2016-03-15</td>\n",
       "      <td>148</td>\n",
       "    </tr>\n",
       "    <tr>\n",
       "      <th>3</th>\n",
       "      <td>h_4dPV9M9aYaBliH1Eoeeg-2016-05-12</td>\n",
       "      <td>138</td>\n",
       "    </tr>\n",
       "    <tr>\n",
       "      <th>4</th>\n",
       "      <td>trKyIRyjKqVSZmcU0AnICQ-2016-04-11</td>\n",
       "      <td>112</td>\n",
       "    </tr>\n",
       "  </tbody>\n",
       "</table>\n",
       "</div>"
      ],
      "text/plain": [
       "                            bizID-dt  count_reviews_in_scope\n",
       "0  RwRNR4z3kY-4OsFqigY5sw-2015-11-03                     233\n",
       "1  jc3p5SFyt9qrrMXt6E13ig-2016-12-21                     156\n",
       "2  RwRNR4z3kY-4OsFqigY5sw-2016-03-15                     148\n",
       "3  h_4dPV9M9aYaBliH1Eoeeg-2016-05-12                     138\n",
       "4  trKyIRyjKqVSZmcU0AnICQ-2016-04-11                     112"
      ]
     },
     "execution_count": 19,
     "metadata": {},
     "output_type": "execute_result"
    }
   ],
   "source": [
    "#get counts of in scope reviews for each inspeciton date of a given restaurant\n",
    "in_scope_rev = obs['bizID-dt'].value_counts()\n",
    "in_scope_reviews = pd.DataFrame(in_scope_rev).reset_index()\n",
    "in_scope_reviews.columns = ['bizID-dt','count_reviews_in_scope']\n",
    "in_scope_reviews.head()"
   ]
  },
  {
   "cell_type": "code",
   "execution_count": 20,
   "metadata": {
    "collapsed": true,
    "scrolled": true
   },
   "outputs": [],
   "source": [
    "#get dummies for star rating column\n",
    "obs = pd.concat([obs, pd.get_dummies(obs['review_stars'], prefix='stars')], axis=1)"
   ]
  },
  {
   "cell_type": "code",
   "execution_count": 21,
   "metadata": {
    "scrolled": false
   },
   "outputs": [
    {
     "data": {
      "text/html": [
       "<div>\n",
       "<table border=\"1\" class=\"dataframe\">\n",
       "  <thead>\n",
       "    <tr style=\"text-align: right;\">\n",
       "      <th></th>\n",
       "      <th>bizID-dt</th>\n",
       "      <th>stars_1</th>\n",
       "      <th>stars_2</th>\n",
       "      <th>stars_3</th>\n",
       "      <th>stars_4</th>\n",
       "      <th>stars_5</th>\n",
       "    </tr>\n",
       "  </thead>\n",
       "  <tbody>\n",
       "    <tr>\n",
       "      <th>0</th>\n",
       "      <td>-2TBP3ZGu7M-FmfoNJvbrQ-2016-09-07</td>\n",
       "      <td>0</td>\n",
       "      <td>1</td>\n",
       "      <td>0</td>\n",
       "      <td>2</td>\n",
       "      <td>0</td>\n",
       "    </tr>\n",
       "    <tr>\n",
       "      <th>1</th>\n",
       "      <td>-2TBP3ZGu7M-FmfoNJvbrQ-2017-01-18</td>\n",
       "      <td>0</td>\n",
       "      <td>0</td>\n",
       "      <td>1</td>\n",
       "      <td>3</td>\n",
       "      <td>1</td>\n",
       "    </tr>\n",
       "    <tr>\n",
       "      <th>2</th>\n",
       "      <td>-76didnxGiiMO80BjSpYsQ-2015-09-01</td>\n",
       "      <td>1</td>\n",
       "      <td>1</td>\n",
       "      <td>0</td>\n",
       "      <td>0</td>\n",
       "      <td>0</td>\n",
       "    </tr>\n",
       "    <tr>\n",
       "      <th>3</th>\n",
       "      <td>-76didnxGiiMO80BjSpYsQ-2016-03-01</td>\n",
       "      <td>1</td>\n",
       "      <td>4</td>\n",
       "      <td>0</td>\n",
       "      <td>1</td>\n",
       "      <td>0</td>\n",
       "    </tr>\n",
       "    <tr>\n",
       "      <th>4</th>\n",
       "      <td>-76didnxGiiMO80BjSpYsQ-2016-09-29</td>\n",
       "      <td>2</td>\n",
       "      <td>3</td>\n",
       "      <td>0</td>\n",
       "      <td>1</td>\n",
       "      <td>1</td>\n",
       "    </tr>\n",
       "  </tbody>\n",
       "</table>\n",
       "</div>"
      ],
      "text/plain": [
       "                            bizID-dt  stars_1  stars_2  stars_3  stars_4  \\\n",
       "0  -2TBP3ZGu7M-FmfoNJvbrQ-2016-09-07        0        1        0        2   \n",
       "1  -2TBP3ZGu7M-FmfoNJvbrQ-2017-01-18        0        0        1        3   \n",
       "2  -76didnxGiiMO80BjSpYsQ-2015-09-01        1        1        0        0   \n",
       "3  -76didnxGiiMO80BjSpYsQ-2016-03-01        1        4        0        1   \n",
       "4  -76didnxGiiMO80BjSpYsQ-2016-09-29        2        3        0        1   \n",
       "\n",
       "   stars_5  \n",
       "0        0  \n",
       "1        1  \n",
       "2        0  \n",
       "3        0  \n",
       "4        1  "
      ]
     },
     "execution_count": 21,
     "metadata": {},
     "output_type": "execute_result"
    }
   ],
   "source": [
    "#Get counts of each star rating for a given restaurant\n",
    "stars = obs.groupby('bizID-dt')[['stars_1', 'stars_2','stars_3','stars_4','stars_5']].sum().reset_index()\n",
    "stars.head()"
   ]
  },
  {
   "cell_type": "code",
   "execution_count": 22,
   "metadata": {
    "collapsed": true,
    "scrolled": false
   },
   "outputs": [],
   "source": [
    "#merge review text based on the business-inspection date primary key\n",
    "combined_revs = obs.groupby('bizID-dt')['review_text'].apply(' '.join).reset_index()"
   ]
  },
  {
   "cell_type": "code",
   "execution_count": 23,
   "metadata": {
    "collapsed": true,
    "scrolled": false
   },
   "outputs": [],
   "source": [
    "#get a unique count of the users that reviewed the restaurant after the last inspection \n",
    "#and before the current inspection\n",
    "users = obs.groupby('bizID-dt')['user_id'].count().reset_index()\n",
    "users.columns = ['bizID-dt','count_unique_users']"
   ]
  },
  {
   "cell_type": "code",
   "execution_count": 24,
   "metadata": {
    "collapsed": true,
    "scrolled": false
   },
   "outputs": [],
   "source": [
    "sub = obs[['bizID-dt','bizID',\n",
    "           'name','postal_code',\n",
    "           'lat','long','categories',\n",
    "           'attributes','is_open',\n",
    "           'crucial_signficant','stars', 'last_insp_cs']]\n",
    "sub = sub.drop_duplicates()"
   ]
  },
  {
   "cell_type": "code",
   "execution_count": 167,
   "metadata": {
    "collapsed": true,
    "scrolled": true
   },
   "outputs": [],
   "source": [
    "#merge in all data into one df\n",
    "df1 = pd.merge(sub,stars,on='bizID-dt', how='left')\n",
    "df2 = pd.merge(df1,combined_revs,on='bizID-dt', how='left')\n",
    "df3 = pd.merge(df2,rev_counts,on='bizID', how='left')\n",
    "df4 = pd.merge(df3,in_scope_reviews,on='bizID-dt', how='left')\n",
    "df5 = pd.merge(df4,users,on='bizID-dt', how='left')\n"
   ]
  },
  {
   "cell_type": "markdown",
   "metadata": {},
   "source": [
    "### Parsing the \"Categories\" and \"Attributes\" columns into unique features\n",
    "The next cell parses the 'Categories' and 'Attributes' columns,which are nested dicitonaries of different attributesof each restaurant. The categroy column captures descriptive features such as the types of cuisine served, and wheter or not the restaurant is a bar. The atttributes column captures features such as the 'ambiance' of the restaurant, parking, noise level, and other unique features."
   ]
  },
  {
   "cell_type": "code",
   "execution_count": 168,
   "metadata": {
    "scrolled": true
   },
   "outputs": [],
   "source": [
    "t = []\n",
    "for i in range(len(df5['categories'])):\n",
    "    x = ast.literal_eval(df5['categories'][i])\n",
    "    t.append(x)\n",
    "    \n",
    "cats = pd.DataFrame(t)\n",
    "cats_df = pd.get_dummies(cats, prefix='Category')\n",
    "cats_df = cats_df.groupby(cats_df.columns, axis=1).sum()\n",
    "\n",
    "atts_df = pd.DataFrame()\n",
    "for x in range(len(df5['attributes'])):\n",
    "    list_yelp = ast.literal_eval(df5['attributes'][x])\n",
    "\n",
    "    attribute_list = []\n",
    "    attribute_name = []\n",
    "\n",
    "    for i in list_yelp:\n",
    "\n",
    "        name = i.split(\":\")[0]\n",
    "        values = i.split( name+\": \" )[1].replace('{','').replace('}','')\n",
    "\n",
    "        if len(values.split(\":\")) > 1: \n",
    "        \n",
    "            for j in values.split(\",\"):\n",
    "                name_j = name + \"_\" + (j.split(\":\")[0].strip().replace(\"'\",''))\n",
    "                attribute_name.append( name_j )\n",
    "                attribute_list.append (j.split(\":\")[1])\n",
    "        else:\n",
    "            attribute_name.append( name )\n",
    "            attribute_list.append ( values )\n",
    "        \n",
    "    dataframe = pd.DataFrame(attribute_list).transpose()\n",
    "    dataframe.columns = attribute_name\n",
    "    atts_df = atts_df.append(dataframe)\n",
    "    \n",
    "atts_df = atts_df.reset_index().drop('index', 1)\n",
    "\n",
    "df = pd.concat([df5, cats_df, atts_df], axis=1)"
   ]
  },
  {
   "cell_type": "markdown",
   "metadata": {},
   "source": [
    "Next, we create dummy variables for all of the attribute and category features that were generated in the previous step. We want to capture if the attribute is true, false, or nor applicable for the restaurant."
   ]
  },
  {
   "cell_type": "code",
   "execution_count": 169,
   "metadata": {
    "collapsed": true,
    "scrolled": false
   },
   "outputs": [],
   "source": [
    "#dummy-ize all categorical and boolean variables\n",
    "df=pd.get_dummies(df, columns=[\n",
    " 'Alcohol',\n",
    " 'Ambience_casual',\n",
    " 'Ambience_classy',\n",
    " 'Ambience_hipster',\n",
    " 'Ambience_intimate',\n",
    " 'Ambience_romantic',\n",
    " 'Ambience_touristy',\n",
    " 'Ambience_trendy',\n",
    " 'Ambience_upscale',\n",
    " 'BikeParking',\n",
    " 'BusinessAcceptsCreditCards',\n",
    " 'BusinessParking_garage',\n",
    " 'BusinessParking_lot',\n",
    " 'BusinessParking_street',\n",
    " 'BusinessParking_valet',\n",
    " 'BusinessParking_validated',\n",
    " 'Caters',\n",
    " 'GoodForKids',\n",
    " 'GoodForMeal_breakfast',\n",
    " 'GoodForMeal_brunch',\n",
    " 'GoodForMeal_dessert',\n",
    " 'GoodForMeal_dinner',\n",
    " 'GoodForMeal_latenight',\n",
    " 'GoodForMeal_lunch',\n",
    " 'HasTV',\n",
    " 'NoiseLevel',\n",
    " 'OutdoorSeating',\n",
    " 'RestaurantsAttire',\n",
    " 'RestaurantsDelivery',\n",
    " 'RestaurantsGoodForGroups',\n",
    " 'RestaurantsPriceRange2',\n",
    " 'RestaurantsReservations',\n",
    " 'RestaurantsTableService',\n",
    " 'RestaurantsTakeOut',\n",
    " 'WiFi', \n",
    " 'is_open',\n",
    "'BestNights_friday',\n",
    " 'BestNights_monday',\n",
    " 'BestNights_saturday',\n",
    " 'BestNights_sunday',\n",
    " 'BestNights_thursday',\n",
    " 'BestNights_tuesday',\n",
    " 'BestNights_wednesday',\n",
    "     'ByAppointmentOnly',\n",
    " 'CoatCheck',\n",
    " 'DogsAllowed',\n",
    " 'DriveThru',\n",
    " 'GoodForDancing',\n",
    " 'HappyHour',\n",
    " 'Music_background_music',\n",
    " 'Music_dj',\n",
    " 'Music_jukebox',\n",
    " 'Music_karaoke',\n",
    " 'Music_live',\n",
    " 'Music_no_music',\n",
    " 'Music_video',\n",
    " 'Open24Hours',\n",
    " 'RestaurantsCounterService',\n",
    " 'Smoking',\n",
    " 'WheelchairAccessible'\n",
    "  ]\n",
    "  , dummy_na=True)\n"
   ]
  },
  {
   "cell_type": "code",
   "execution_count": 170,
   "metadata": {
    "collapsed": true,
    "scrolled": false
   },
   "outputs": [],
   "source": [
    "#useful code to view all columns of df\n",
    "pd.set_option('display.max_columns', None)"
   ]
  },
  {
   "cell_type": "code",
   "execution_count": 171,
   "metadata": {
    "collapsed": true,
    "scrolled": false
   },
   "outputs": [],
   "source": [
    "#remove all of the extraneous features\n",
    "#backup=df\n",
    "del df['categories']\n",
    "del df['attributes']\n",
    "del df['name']\n",
    "del df['bizID']\n",
    "del df['bizID-dt']\n",
    "del df['lat']\n",
    "del df['long']\n",
    "del df['postal_code']\n",
    "#Make a True/False target variable to label each inspection event with wether or not a critical violaton was found\n",
    "df['crucial_signficant']= (df['crucial_signficant']>0)*1"
   ]
  },
  {
   "cell_type": "markdown",
   "metadata": {},
   "source": [
    "### Text feature extraction, stop word removal, and lemmatization"
   ]
  },
  {
   "cell_type": "code",
   "execution_count": 172,
   "metadata": {
    "scrolled": false
   },
   "outputs": [],
   "source": [
    "from nltk.corpus import stopwords\n",
    "from stemming.porter2 import stem\n",
    "import nltk\n",
    "import string\n",
    "#remove stopwords, clean punctuation, and stem \n",
    "stop = stopwords.words('english')\n",
    "df['review_text']=df['review_text'].str.lower()\n",
    "df['review_text'] = df['review_text'].apply(lambda x: '  '.join([word for word in x.split() if word not in (stop)]))\n",
    "df['review_text'] = df['review_text'].str.replace('.',' ')\n",
    "df['review_text'] = df['review_text'].str.replace('!',' ')\n",
    "df['review_text'] = df['review_text'].str.replace(',',' ')\n",
    "df['review_text'] = df['review_text'].str.replace('?',' ')\n",
    "df['review_text'] = df['review_text'].str.replace('/',' ')\n",
    "df['review_text'] = df['review_text'].str.replace('-',' ')"
   ]
  },
  {
   "cell_type": "code",
   "execution_count": 173,
   "metadata": {
    "scrolled": false
   },
   "outputs": [
    {
     "data": {
      "text/plain": [
       "0     love attitud staff numer occas bagel still tas...\n",
       "1     so iv walk past place numer time and regret no...\n",
       "2     nice cozi spot mediterranean bruschetta pepper...\n",
       "3     this place awesom server friend non evas pasta...\n",
       "4     group 9 lunch great lunch special alot choic m...\n",
       "5     i go epicur occasion excel express lunch menu ...\n",
       "6     this might look like newsstand conveni corner ...\n",
       "7     im give 2 star rate unexpect unnecessari misha...\n",
       "8     this review strict kimchi fri rice greatest iv...\n",
       "9     24 hour subway els know it 3 want subway inste...\n",
       "10    each time go charg differ type food order seem...\n",
       "11    i would high recommend place north toronto sus...\n",
       "12    this one favorit sushi restaur north toronto f...\n",
       "13    probabl timmi know peopl hit drive spare chang...\n",
       "14    this place great deal tasti look cheap vegan l...\n",
       "15    they semi re brand known esther queen soup the...\n",
       "16    if want get yell order mediocr soup place you ...\n",
       "17    we breakfast quit busi friday afternoon im sur...\n",
       "18    love place it cleanest diner food great servic...\n",
       "19    the egg bernadett revel poach egg top wilt spi...\n",
       "20    i want tri egg bernadett wasnt avail visit got...\n",
       "21    food typic diner servic straightforward small ...\n",
       "22    locat wise it quit comfort new easi find seat ...\n",
       "23    one newer locat nice awesom servic par staff p...\n",
       "24    four star fast food realli yes let tell whi fi...\n",
       "Name: review_text, dtype: object"
      ]
     },
     "execution_count": 173,
     "metadata": {},
     "output_type": "execute_result"
    }
   ],
   "source": [
    "# ps = nltk.stem.WordNetLemmatizer()\n",
    "# df['review_text']=df[\"review_text\"].apply(lambda x:[ps.lemmatize(y,pos='v') for y in x.split()])\n",
    "df['review_text']=df[\"review_text\"].apply(lambda x:[stem(y) for y in x.split()])\n",
    "df['review_text']=df['review_text'].apply(lambda x: ',  '.join(x))\n",
    "translator = str.maketrans('', '', string.punctuation)\n",
    "df['review_text'] = df['review_text'].str.translate(translator)\n",
    "df['review_text'] = df['review_text'].replace(to_replace =' +',value=' ', regex=True)\n",
    "df['stars'] = df.stars.astype(float)\n",
    "df['review_text'].head(25)"
   ]
  },
  {
   "cell_type": "code",
   "execution_count": 174,
   "metadata": {
    "scrolled": false
   },
   "outputs": [
    {
     "data": {
      "text/plain": [
       "748"
      ]
     },
     "execution_count": 174,
     "metadata": {},
     "output_type": "execute_result"
    }
   ],
   "source": [
    "import gc\n",
    "gc.collect()"
   ]
  },
  {
   "cell_type": "code",
   "execution_count": 175,
   "metadata": {
    "scrolled": false
   },
   "outputs": [
    {
     "data": {
      "image/png": "[encoded data removed]",
      "text/plain": [
       "<matplotlib.figure.Figure at 0x141944f98>"
      ]
     },
     "metadata": {},
     "output_type": "display_data"
    },
    {
     "data": {
      "image/png": "[encoded data removed]",
      "text/plain": [
       "<matplotlib.figure.Figure at 0x14184e860>"
      ]
     },
     "metadata": {},
     "output_type": "display_data"
    }
   ],
   "source": [
    "import matplotlib.pyplot as plt\n",
    "%matplotlib inline\n",
    "\n",
    "plt.rcParams['figure.figsize'] = 6, 6\n",
    "pd.value_counts(df['crucial_signficant']).plot(kind=\"bar\")\n",
    "plt.xlabel('Class (1 = Critical Violation Detected)')\n",
    "plt.ylabel('Count of Observation')\n",
    "plt.title('Distribution of Target Variable')\n",
    "plt.legend(loc=\"lower right\")\n",
    "plt.show()\n",
    "plt.rcParams['figure.figsize'] = 6,12 \n",
    "\n",
    "plt.figure(1)\n",
    "\n",
    "plt.subplot(211)\n",
    "pd.value_counts(df['count_reviews_in_scope']).plot()\n",
    "plt.xlabel('Count of Reviews')\n",
    "plt.ylabel('Count of Observation')\n",
    "plt.title('Distribution of Relevant Reviews per Inspection')\n",
    "plt.legend(loc=\"lower right\")\n",
    "\n",
    "plt.subplot(212)\n",
    "counts = pd.value_counts(df['stars']).sort_index()\n",
    "counts.plot(kind=\"bar\")\n",
    "plt.xlabel('Average Star Rating')\n",
    "plt.ylabel('Count of Observation')\n",
    "plt.title('Distribution of Average Star Rating')\n",
    "plt.legend(loc=\"lower right\")\n",
    "\n",
    "plt.show()"
   ]
  },
  {
   "cell_type": "markdown",
   "metadata": {},
   "source": [
    "## 3. Modeling and Text Vectorization\n",
    "First, we import all necessary packages. By comparing the results of several vectorizing methods as well as several moeling methods, we can determine which combination yield best performance."
   ]
  },
  {
   "cell_type": "code",
   "execution_count": 176,
   "metadata": {
    "collapsed": true,
    "scrolled": false
   },
   "outputs": [],
   "source": [
    "df_test = df[df['count_reviews_in_scope'] >0]\n",
    "#keep only the obs that are within +3 to -3 standard deviations in the column 'count_reviews_in_scope'.\n",
    "# df[np.abs(df.count_reviews_in_scope-df.count_reviews_in_scope.mean())<=(3*df.count_reviews_in_scope.std())]\n",
    "X_ntext = df_test.drop(['review_text','crucial_signficant'], axis=1)\n",
    "from sklearn.feature_extraction.text import TfidfVectorizer\n",
    "#separate the non text features so that we only transform the text\n",
    "X_text = df_test['review_text']\n",
    "X_ntext = df_test.drop(['review_text','crucial_signficant'], axis=1)"
   ]
  },
  {
   "cell_type": "code",
   "execution_count": 178,
   "metadata": {
    "collapsed": true,
    "scrolled": false
   },
   "outputs": [],
   "source": [
    "# set up a few different vectorizers to test\n",
    "count_vectorizer = CountVectorizer(binary=True, ngram_range=(1, 3))\n",
    "bigram_vectorizer = TfidfVectorizer(ngram_range = (1,3))"
   ]
  },
  {
   "cell_type": "markdown",
   "metadata": {},
   "source": [
    "### Linear Regression\n",
    "##### Basic Linear Regression 3-fold CV , TfidfVectorizer(ngram_range = (1,3))"
   ]
  },
  {
   "cell_type": "code",
   "execution_count": 179,
   "metadata": {
    "collapsed": true,
    "scrolled": false
   },
   "outputs": [],
   "source": [
    "from sklearn.linear_model import LogisticRegression\n",
    "from sklearn.model_selection import cross_val_score\n",
    "from sklearn.model_selection import GridSearchCV\n",
    "from sklearn import metrics\n",
    "from sklearn.model_selection import train_test_split\n",
    "from scipy import interp\n",
    "from sklearn.metrics import roc_curve, auc\n",
    "from itertools import cycle\n",
    "from sklearn.model_selection import StratifiedKFold"
   ]
  },
  {
   "cell_type": "code",
   "execution_count": 180,
   "metadata": {
    "scrolled": false
   },
   "outputs": [
    {
     "name": "stdout",
     "output_type": "stream",
     "text": [
      "Best parameters set found on development set:{'C': 0.1, 'penalty': 'l1'}\n"
     ]
    }
   ],
   "source": [
    "#vectorize using trigram tfidf vectorizer and 3-gram features\n",
    "X1 = scipy.sparse.hstack((bigram_vectorizer.fit_transform(df_test.review_text), X_ntext.values),format='csr')\n",
    "Y1 = df_test['crucial_signficant']\n",
    "\n",
    "#create train/test split\n",
    "X_train1, X_test1, Y_train1, Y_test1 = train_test_split(X1, Y1, train_size=.75)\n",
    "\n",
    "#build LR model using the tfidf trigram vectorier\n",
    "lr = LogisticRegression()\n",
    "lr_parameters = {'C':[0.0001,0.001,0.1,1,10],\n",
    "                'penalty':['l1','l2']}\n",
    "\n",
    "lr_cv = GridSearchCV(lr,lr_parameters)\n",
    "lr_cv.fit(X_train1,Y_train1)\n",
    "\n",
    "print(\"Best parameters set found on development set:\"+str(lr_cv.best_params_))"
   ]
  },
  {
   "cell_type": "code",
   "execution_count": 181,
   "metadata": {
    "scrolled": false
   },
   "outputs": [
    {
     "data": {
      "image/png": "[encoded data removed]",
      "text/plain": [
       "<matplotlib.figure.Figure at 0x14184b4e0>"
      ]
     },
     "metadata": {},
     "output_type": "display_data"
    }
   ],
   "source": [
    "cv = StratifiedKFold(n_splits=5)\n",
    "classifier = lr_cv\n",
    "mean_tpr = 0.0\n",
    "mean_fpr = np.linspace(0, 1, 100)\n",
    "\n",
    "colors = cycle(['cyan', 'indigo', 'seagreen', 'yellow', 'blue', 'darkorange'])\n",
    "lw = 2\n",
    "\n",
    "i = 0\n",
    "for (train, test), color in zip(cv.split(X1, Y1), colors):\n",
    "    probas_ = classifier.fit(X1[train], Y1[train]).predict_proba(X1[test])\n",
    "    # Compute ROC curve and area the curve\n",
    "    fpr, tpr, thresholds = roc_curve(Y1[test], probas_[:, 1])\n",
    "    mean_tpr += interp(mean_fpr, fpr, tpr)\n",
    "    mean_tpr[0] = 0.0\n",
    "    roc_auc = auc(fpr, tpr)\n",
    "    plt.plot(fpr, tpr, lw=lw, color=color,\n",
    "             label='ROC fold %d (area = %0.2f)' % (i, roc_auc))\n",
    "\n",
    "    i += 1\n",
    "plt.plot([0, 1], [0, 1], linestyle='--', lw=lw, color='k',\n",
    "         label='Luck')\n",
    "\n",
    "mean_tpr /= cv.get_n_splits(X1, Y1)\n",
    "mean_tpr[-1] = 1.0\n",
    "mean_auc = auc(mean_fpr, mean_tpr)\n",
    "plt.rcParams['figure.figsize'] = 6, 6\n",
    "plt.plot(mean_fpr, mean_tpr, color='g', linestyle='--',\n",
    "         label='Mean ROC (area = %0.2f)' % mean_auc, lw=lw)\n",
    "\n",
    "plt.xlim([-0.05, 1.05])\n",
    "plt.ylim([-0.05, 1.05])\n",
    "plt.xlabel('False Positive Rate')\n",
    "plt.ylabel('True Positive Rate')\n",
    "plt.title('ROC Curves: 5-Fold CV Logistic Regression using Trigram TFIDF Vectorizer')\n",
    "plt.legend(loc=\"lower right\")\n",
    "plt.show()\n",
    "#  print (\"Average AUC using 5-fold CV and optimized parameters on test data with TFIDF Vectorizer = %.3f\" % \n",
    "#         np.mean(cross_val_score(lr_cv, X_test1, Y_test1, scoring=\"roc_auc\", cv=5)))"
   ]
  },
  {
   "cell_type": "markdown",
   "metadata": {},
   "source": [
    "##### Basic Linear Regression 3-fold CV , CountVectorizer(binary=True, ngram_range=(1, 3))"
   ]
  },
  {
   "cell_type": "code",
   "execution_count": 182,
   "metadata": {
    "scrolled": false
   },
   "outputs": [
    {
     "name": "stdout",
     "output_type": "stream",
     "text": [
      "Best parameters set found on development set:{'C': 0.0001, 'penalty': 'l1'}\n"
     ]
    }
   ],
   "source": [
    "#vectorize using count vectorizer and create train/test split\n",
    "X2 = scipy.sparse.hstack((count_vectorizer.fit_transform(df_test.review_text), X_ntext.values),format='csr')\n",
    "Y2 = df['crucial_signficant']\n",
    "\n",
    "#create train/test split\n",
    "X_train2, X_test2, Y_train2, Y_test2 = train_test_split(X2, Y2, train_size=.75)\n",
    "\n",
    "#build LR model using the count vectorier\n",
    "lr2 = LogisticRegression()\n",
    "lr_parameters = {'C':[0.0001,0.001,0.01,0.1,1,10],\n",
    "                'penalty':['l1','l2']}\n",
    "lr_cv2 = GridSearchCV(lr,lr_parameters)\n",
    "lr_cv2.fit(X_train2, Y_train2)\n",
    "\n",
    "print(\"Best parameters set found on development set:\"+str(lr_cv2.best_params_))"
   ]
  },
  {
   "cell_type": "code",
   "execution_count": null,
   "metadata": {
    "scrolled": false
   },
   "outputs": [
    {
     "data": {
      "image/png": "[encoded data removed]",
      "text/plain": [
       "<matplotlib.figure.Figure at 0x1417bc7f0>"
      ]
     },
     "metadata": {},
     "output_type": "display_data"
    }
   ],
   "source": [
    "cv = StratifiedKFold(n_splits=5)\n",
    "classifier = lr_cv2\n",
    "mean_tpr = 0.0\n",
    "mean_fpr = np.linspace(0, 1, 100)\n",
    "\n",
    "colors = cycle(['cyan', 'indigo', 'seagreen', 'yellow', 'blue', 'darkorange'])\n",
    "lw = 2\n",
    "\n",
    "i = 0\n",
    "for (train, test), color in zip(cv.split(X2, Y2), colors):\n",
    "    probas_ = classifier.fit(X2[train], Y2[train]).predict_proba(X2[test])\n",
    "    # Compute ROC curve and area the curve\n",
    "    fpr, tpr, thresholds = roc_curve(Y2[test], probas_[:, 1])\n",
    "    mean_tpr += interp(mean_fpr, fpr, tpr)\n",
    "    mean_tpr[0] = 0.0\n",
    "    roc_auc = auc(fpr, tpr)\n",
    "    plt.plot(fpr, tpr, lw=lw, color=color,\n",
    "             label='ROC fold %d (area = %0.2f)' % (i, roc_auc))\n",
    "\n",
    "    i += 1\n",
    "plt.plot([0, 1], [0, 1], linestyle='--', lw=lw, color='k',\n",
    "         label='Luck')\n",
    "\n",
    "mean_tpr /= cv.get_n_splits(X2, Y2)\n",
    "mean_tpr[-1] = 1.0\n",
    "mean_auc = auc(mean_fpr, mean_tpr)\n",
    "plt.plot(mean_fpr, mean_tpr, color='g', linestyle='--',\n",
    "         label='Mean ROC (area = %0.2f)' % mean_auc, lw=lw)\n",
    "\n",
    "plt.xlim([-0.05, 1.05])\n",
    "plt.ylim([-0.05, 1.05])\n",
    "plt.xlabel('False Positive Rate')\n",
    "plt.ylabel('True Positive Rate')\n",
    "plt.title('ROC Curves: 5-Fold CV Linear Regression using Trigram Count Vectorizer')\n",
    "plt.legend(loc=\"lower right\")\n",
    "plt.show()\n",
    "# auc = np.mean(cross_val_score(lr_cv2, X_test2, Y_test2, scoring=\"roc_auc\", cv=5))\n",
    "# print (\"Average AUC using 5-fold CV and optimized parameters on test data with Count Vectorizer = %.3f\" % \n",
    "#      auc  )"
   ]
  },
  {
   "cell_type": "markdown",
   "metadata": {},
   "source": [
    "### Random Forest"
   ]
  },
  {
   "cell_type": "code",
   "execution_count": null,
   "metadata": {
    "scrolled": false
   },
   "outputs": [],
   "source": [
    "from sklearn.ensemble import RandomForestClassifier\n",
    "cv = StratifiedKFold(n_splits=5)\n",
    "classifier = RandomForestClassifier()\n",
    "mean_tpr = 0.0\n",
    "mean_fpr = np.linspace(0, 1, 100)\n",
    "\n",
    "colors = cycle(['cyan', 'indigo', 'seagreen', 'yellow', 'blue', 'darkorange'])\n",
    "lw = 2\n",
    "\n",
    "i = 0\n",
    "for (train, test), color in zip(cv.split(X2, Y2), colors):\n",
    "    probas_ = classifier.fit(X2[train], Y2[train]).predict_proba(X2[test])\n",
    "    # Compute ROC curve and area the curve\n",
    "    fpr, tpr, thresholds = roc_curve(Y2[test], probas_[:, 1])\n",
    "    mean_tpr += interp(mean_fpr, fpr, tpr)\n",
    "    mean_tpr[0] = 0.0\n",
    "    roc_auc = auc(fpr, tpr)\n",
    "    plt.plot(fpr, tpr, lw=lw, color=color,\n",
    "             label='ROC fold %d (area = %0.2f)' % (i, roc_auc))\n",
    "\n",
    "    i += 1\n",
    "plt.plot([0, 1], [0, 1], linestyle='--', lw=lw, color='k',\n",
    "         label='Luck')\n",
    "\n",
    "mean_tpr /= cv.get_n_splits(X2, Y2)\n",
    "mean_tpr[-1] = 1.0\n",
    "mean_auc = auc(mean_fpr, mean_tpr)\n",
    "plt.plot(mean_fpr, mean_tpr, color='g', linestyle='--',\n",
    "         label='Mean ROC (area = %0.2f)' % mean_auc, lw=lw)\n",
    "\n",
    "plt.xlim([-0.05, 1.05])\n",
    "plt.ylim([-0.05, 1.05])\n",
    "plt.xlabel('False Positive Rate')\n",
    "plt.ylabel('True Positive Rate')\n",
    "plt.title('ROC Curves: 3-Fold CV Random Forest using Trigram Count Vectorizer')\n",
    "plt.legend(loc=\"lower right\")\n",
    "plt.show()\n",
    "\n",
    "print (\"Area under the ROC curve on test data = %.3f\" % metrics.roc_auc_score(rf.predict(X_test2), Y_test2))"
   ]
  },
  {
   "cell_type": "markdown",
   "metadata": {},
   "source": [
    "*Other methods including Gradient Descent and a Restricted Boltazman Machine Neural Net are implemented below. Because the count vectorizer performed better than the TFIDF vectorizer, we use this vectorization in these methods.*"
   ]
  },
  {
   "cell_type": "markdown",
   "metadata": {},
   "source": [
    "### Logistic Regression with Stochastic Gradient Descent"
   ]
  },
  {
   "cell_type": "code",
   "execution_count": null,
   "metadata": {
    "scrolled": false
   },
   "outputs": [],
   "source": [
    "# from sklearn import linear_model\n",
    "# clf = linear_model.SGDClassifier(loss='log', penalty='L1')\n",
    "# clf.fit(X_train2,Y_train2)\n",
    "\n",
    "# auc = np.mean(cross_val_score(clf, X_test2, Y_test2, scoring=\"roc_auc\", cv=3))\n",
    "\n",
    "# # Get the probability of Y_test records being = 1\n",
    "# Y_test_probability_1 =clf.predict_proba(X_test2)[:, 1]\n",
    "\n",
    "# #Use the metrics.roc_curve function to get the true positive rate (tpr) and false positive rate (fpr)\n",
    "# tpr, fpr, thresholds = metrics.roc_curve(Y_test2, Y_test_probability_1)\n",
    "\n",
    "# # Plot the ROC curve\n",
    "# plt.plot(tpr, fpr, label=\"AUC - LR with optimized parameters and count vectorizer: \" + str(round(auc, 2)))\n",
    "    \n",
    "# plt.xlabel(\"False positive rate (fpr)\")\n",
    "# plt.ylabel(\"True positive rate (tpr)\")\n",
    "# plt.plot([0,1], [0,1], 'k--', label=\"Random\")\n",
    "# plt.legend(loc=2)\n"
   ]
  },
  {
   "cell_type": "markdown",
   "metadata": {},
   "source": [
    "### Restricted Boltzmann Machine"
   ]
  },
  {
   "cell_type": "code",
   "execution_count": null,
   "metadata": {
    "scrolled": false
   },
   "outputs": [],
   "source": [
    "# from sklearn.neural_network import BernoulliRBM\n",
    "\n",
    "# X1 = scipy.sparse.hstack((bigram_vectorizer.fit_transform(df_test.review_text), X_ntext))\n",
    "# Y1 = df_test['crucial_signficant']\n",
    "# X_train1, X_test1, Y_train1, Y_test1 = train_test_split(X1, Y1, train_size=.75)\n",
    "\n",
    "# model = BernoulliRBM()\n",
    "# model.learning_rate = 0.06\n",
    "# model.n_iter = 20\n",
    "# # More components tend to give better prediction performance, but larger\n",
    "# # fitting time\n",
    "# model.n_components = 100\n",
    "\n",
    "# model.fit(X_train1, Y_train1)\n",
    "# auc_nn = metrics.roc_auc_score(model.predict(X_test1), Y_test1)\n",
    "# print (\"Area under the ROC curve on test data = %.3f\" % aud_nn )"
   ]
  },
  {
   "cell_type": "code",
   "execution_count": null,
   "metadata": {
    "collapsed": true,
    "scrolled": false
   },
   "outputs": [],
   "source": []
  }
 ],
 "metadata": {
  "anaconda-cloud": {},
  "kernelspec": {
   "display_name": "Python 3",
   "language": "python",
   "name": "python3"
  },
  "language_info": {
   "codemirror_mode": {
    "name": "ipython",
    "version": 3
   },
   "file_extension": ".py",
   "mimetype": "text/x-python",
   "name": "python",
   "nbconvert_exporter": "python",
   "pygments_lexer": "ipython3",
   "version": "3.6.1"
  }
 },
 "nbformat": 4,
 "nbformat_minor": 2
}
